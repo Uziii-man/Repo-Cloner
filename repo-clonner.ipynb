{
 "cells": [
  {
   "cell_type": "code",
   "execution_count": null,
   "id": "initial_id",
   "metadata": {
    "collapsed": true
   },
   "outputs": [],
   "source": [
    "# Importing the required libraries\n",
    "import os\n",
    "import subprocess"
   ]
  },
  {
   "cell_type": "code",
   "execution_count": null,
   "id": "fc07aa4de4d0e89b",
   "metadata": {},
   "outputs": [],
   "source": [
    "# The repositories list\n",
    "repositories = [\"repo1\", \"repo2\", \"repo3\", \"repo4\", \"repo5\"]"
   ]
  },
  {
   "cell_type": "code",
   "execution_count": null,
   "id": "329396295dd05082",
   "metadata": {},
   "outputs": [],
   "source": [
    "# Defining the path to clone the repositories\n",
    "\n",
    "# Current path of the folder\n",
    "dir_name = os.getcwd()\n",
    "# Printing the current path\n",
    "print(dir_name)\n",
    "\n",
    "# The relative path to clone the repositories\n",
    "relative_path = os.path.join(dir_name, \"repos\")\n"
   ]
  },
  {
   "cell_type": "code",
   "execution_count": null,
   "id": "752af90e034448ed",
   "metadata": {},
   "outputs": [],
   "source": [
    "# The function to clone the repositories\n",
    "def clone_repositories(repositories, relative_path):\n",
    "    for repo in repositories:\n",
    "        if not os.path.exists(relative_path):\n",
    "            os.makedirs(relative_path)\n",
    "        os.chdir(relative_path)\n",
    "        command = f\"https://github.com/Uziii-man/{repo}.git\"\n",
    "        process = subprocess.Popen(f\"git clone {command}\", shell=True, stdout=subprocess.PIPE)\n",
    "        process.wait()\n",
    "        print(f\"Repository {repo} cloned successfully\")\n",
    "    print(\"All repositories cloned successfully\")\n",
    "    "
   ]
  },
  {
   "cell_type": "code",
   "execution_count": null,
   "id": "46bf9db42b2194f4",
   "metadata": {},
   "outputs": [],
   "source": [
    "# running the function\n",
    "clone_repositories(repositories, relative_path)\n"
   ]
  },
  {
   "cell_type": "code",
   "execution_count": null,
   "id": "d1a838c23e795f6",
   "metadata": {},
   "outputs": [],
   "source": [
    "# after cloning the repositories, we can now pull the latest changes\n",
    "def pull_repositories(repositories, relative_path):\n",
    "    for repo in repositories:\n",
    "        os.chdir(relative_path)\n",
    "        process = subprocess.Popen(\"git pull\", shell=True, stdout=subprocess.PIPE)\n",
    "        process.wait()\n",
    "        print(f\"Repository {repo} pulled successfully\")\n",
    "    print(\"All repositories pulled successfully\")\n",
    "    "
   ]
  },
  {
   "cell_type": "code",
   "execution_count": null,
   "id": "a2a61607a731d2d",
   "metadata": {},
   "outputs": [],
   "source": [
    "# running the function\n",
    "pull_repositories(repositories, relative_path)"
   ]
  },
  {
   "cell_type": "code",
   "execution_count": null,
   "id": "28f30a5a9d1d2802",
   "metadata": {},
   "outputs": [],
   "source": [
    "# After pulling repository, checking it into a new branch from an existing branch\n",
    "branch_name = \"main\"\n",
    "new_branch = \"new-branch\"\n",
    "def create_branch(repositories, relative_path, branch_name, new_branch):\n",
    "    for repo in repositories:\n",
    "        os.chdir(relative_path)\n",
    "        process = subprocess.Popen(f\"git checkout {branch_name}\", shell=True, stdout=subprocess.PIPE)\n",
    "        process.wait()\n",
    "        process = subprocess.Popen(f\"git checkout -b {new_branch}\", shell=True, stdout=subprocess.PIPE)\n",
    "        process.wait()\n",
    "        print(f\"Branch {new_branch} created successfully\")\n",
    "    print(\"All branches created successfully\")\n"
   ]
  },
  {
   "cell_type": "code",
   "execution_count": null,
   "id": "1f53572c3c0f1eba",
   "metadata": {},
   "outputs": [],
   "source": []
  }
 ],
 "metadata": {
  "kernelspec": {
   "display_name": "Python 3",
   "language": "python",
   "name": "python3"
  },
  "language_info": {
   "codemirror_mode": {
    "name": "ipython",
    "version": 2
   },
   "file_extension": ".py",
   "mimetype": "text/x-python",
   "name": "python",
   "nbconvert_exporter": "python",
   "pygments_lexer": "ipython2",
   "version": "2.7.6"
  }
 },
 "nbformat": 4,
 "nbformat_minor": 5
}
